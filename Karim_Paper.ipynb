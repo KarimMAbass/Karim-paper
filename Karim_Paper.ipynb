{
  "nbformat": 4,
  "nbformat_minor": 0,
  "metadata": {
    "colab": {
      "provenance": [],
      "toc_visible": true
    },
    "kernelspec": {
      "name": "python3",
      "display_name": "Python 3"
    },
    "language_info": {
      "name": "python"
    }
  },
  "cells": [
    {
      "cell_type": "code",
      "execution_count": 1,
      "metadata": {
        "id": "es6Kssw0E0dR"
      },
      "outputs": [],
      "source": [
        "from keras.datasets import mnist\n",
        "import pandas as pd\n",
        "import numpy as np\n",
        "import matplotlib.pyplot as plt\n",
        "from keras.models import Sequential\n",
        "from keras.layers import Dense,Flatten,Dropout\n",
        "from keras.callbacks import EarlyStopping\n"
      ]
    },
    {
      "cell_type": "code",
      "source": [
        "directory_path = \"/content/drive/MyDrive/Class (1)\"\n",
        "directory_path = \"/content/drive/MyDrive/Class (16)\"\n",
        "directory_path = \"/content/drive/MyDrive/train (1)\"\n",
        "directory_path = \"/content/drive/MyDrive/train(16)\""
      ],
      "metadata": {
        "id": "U5Ncabf-JTQt"
      },
      "execution_count": 2,
      "outputs": []
    },
    {
      "cell_type": "code",
      "source": [
        "x_train=[]\n",
        "y_train=[]\n",
        "\n",
        "x_test=[]\n",
        "y_test=[]"
      ],
      "metadata": {
        "id": "U37chaU77zCx"
      },
      "execution_count": 5,
      "outputs": []
    },
    {
      "cell_type": "code",
      "source": [
        "(x_train, y_train), (x_test, y_test) = mnist.load_data()\n",
        "x_train, x_test = x_train / 255.0, x_test / 255.0"
      ],
      "metadata": {
        "id": "AL8nfCFwLkDB",
        "colab": {
          "base_uri": "https://localhost:8080/"
        },
        "outputId": "0115d559-9d3b-4695-e27a-db05ed13286b"
      },
      "execution_count": 3,
      "outputs": [
        {
          "output_type": "stream",
          "name": "stdout",
          "text": [
            "Downloading data from https://storage.googleapis.com/tensorflow/tf-keras-datasets/mnist.npz\n",
            "11490434/11490434 [==============================] - 1s 0us/step\n"
          ]
        }
      ]
    },
    {
      "cell_type": "code",
      "source": [
        "from tensorflow.keras.preprocessing.image import ImageDataGenerator\n",
        "\n",
        "datagen=ImageDataGenerator(\n",
        "    rotation_range=20,\n",
        "    width_sheft_range=0.2,\n",
        "    height_sheft_range=0.2,\n",
        "    shear_range=0.2,\n",
        "    zoom_range=0.2,\n",
        "    rescale=1./255,\n",
        "    horizontal_flip=True,\n",
        "    fill_model='nearset'\n",
        ")\n"
      ],
      "metadata": {
        "id": "pj2LfjWQ7WnJ"
      },
      "execution_count": null,
      "outputs": []
    },
    {
      "cell_type": "code",
      "source": [
        "val_generator = train_datagen.flow_from_directory(\n",
        "        train_dir,\n",
        "        batch_size=BATCH_SIZE,\n",
        "        color_mode=color_type, # grayscale, rgb\n",
        "        class_mode='categorical',\n",
        "        subset='validation'\n",
        "        )"
      ],
      "metadata": {
        "id": "LlzQnnrA9fYU"
      },
      "execution_count": null,
      "outputs": []
    },
    {
      "cell_type": "code",
      "source": [
        "total_val_data = val_generator.samples\n",
        "print(f\"total_val_data = {total_val_data}\")"
      ],
      "metadata": {
        "id": "F9QT60jN-WCD"
      },
      "execution_count": null,
      "outputs": []
    },
    {
      "cell_type": "code",
      "source": [
        "test_generator = test_datagen.flow_from_directory(\n",
        "        test_dir,\n",
        "        batch_size=BATCH_SIZE,\n",
        "        color_mode=color_type, # grayscale, rgb\n",
        "        shuffle=False,\n",
        "        class_mode='categorical')"
      ],
      "metadata": {
        "id": "HEtVfDLF-jbE"
      },
      "execution_count": null,
      "outputs": []
    },
    {
      "cell_type": "code",
      "source": [
        "total_test_data = test_generator.samples\n",
        "print(f\"total_test_data = {total_test_data}\")"
      ],
      "metadata": {
        "id": "KPTpUWuQ-nnr"
      },
      "execution_count": null,
      "outputs": []
    },
    {
      "cell_type": "code",
      "source": [],
      "metadata": {
        "id": "bE2Ira4lIYlA"
      },
      "execution_count": null,
      "outputs": []
    },
    {
      "cell_type": "code",
      "source": [
        "model = Sequential()\n",
        "model.add(Dense(256,activation = 'relu',input_shape=(28,28,1)))\n",
        "model.add(Dense(128,activation = 'relu'))\n",
        "model.add(Dense(10,activation = 'softmax'))\n",
        "model.summary()"
      ],
      "metadata": {
        "id": "qN6tEqSOCExR"
      },
      "execution_count": null,
      "outputs": []
    },
    {
      "cell_type": "code",
      "source": [
        "model.compile(optimizer = 'adam',loss = 'sparse_categorical_crossentropy',metrics = ['accuracy'])"
      ],
      "metadata": {
        "id": "SEpc-2prCGRC"
      },
      "execution_count": null,
      "outputs": []
    },
    {
      "cell_type": "code",
      "source": [
        "early_stopping_monitor = EarlyStopping(patience = 3)\n",
        "model.fit(x_train,y_train,validation_split = 0.3,epochs = 100,batch_size = 100, callbacks = [early_stopping_monitor])"
      ],
      "metadata": {
        "id": "zP3OLvxVCWYq"
      },
      "execution_count": null,
      "outputs": []
    },
    {
      "cell_type": "code",
      "source": [
        "model.evaluate(x_test, y_test)"
      ],
      "metadata": {
        "id": "lZ0SdVyeCKIw"
      },
      "execution_count": null,
      "outputs": []
    },
    {
      "cell_type": "code",
      "source": [
        "history = mpdel.fit(x_train_combined, y_train_combined.astype('float32'), epochs=20,callbacks=callbacks)"
      ],
      "metadata": {
        "id": "bAXdcCD8IcbP"
      },
      "execution_count": null,
      "outputs": []
    },
    {
      "cell_type": "code",
      "source": [
        "from tensorflow.keras.models import Model\n",
        "import tensorflow as tf\n",
        "from tensorflow.keras import backend as K\n",
        "metrics = [\n",
        "    'accuracy',\n",
        "    tf.keras.metrics.AUC(),\n",
        "    tf.keras.metrics.Recall(),\n",
        "    tf.keras.metrics.Precision(),\n",
        "    tf.keras.metrics.SpecificityAtSensitivity(0.5),\n",
        "    tf.keras.metrics.SensitivityAtSpecificity(0.5),\n",
        "    tf.keras.metrics.FalseNegatives(),\n",
        "    tf.keras.metrics.FalsePositives(),\n",
        "    tf.keras.metrics.TrueNegatives(),\n",
        "    tf.keras.metrics.F1Score(),\n",
        "]"
      ],
      "metadata": {
        "id": "Z7DndIKn-_U-"
      },
      "execution_count": null,
      "outputs": []
    },
    {
      "cell_type": "code",
      "source": [
        "title = \"Val acc for \"+dataset+\" \"+impl_type+\"\\n\"\n",
        "\n",
        "plt.plot(log_data['accuracy'])\n",
        "plt.plot(log_data['val_accuracy'])\n",
        "plt.title(title)\n",
        "plt.ylabel('accuracy')\n",
        "plt.xlabel('epoch')\n",
        "plt.legend(['train_accuracy','val_accuracy'], loc = 'best')\n",
        "plt.grid(b=True, which='major', axis='both')\n",
        "\n",
        "img_path = work_dir+'vAcc_'+checkpointer_name[8:-5]+'.png'\n",
        "plt.savefig(img_path, dpi=600)\n",
        "plt.show()\n",
        "print('img_path =', img_path)"
      ],
      "metadata": {
        "id": "MEnnOI03BkfX"
      },
      "execution_count": null,
      "outputs": []
    },
    {
      "cell_type": "code",
      "source": [
        "model.evaluate(x_test_combined,y_test_combined.astype('float32'))"
      ],
      "metadata": {
        "id": "qjEcoDcDJCoj"
      },
      "execution_count": null,
      "outputs": []
    }
  ]
}